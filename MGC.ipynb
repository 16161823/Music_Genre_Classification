{
 "cells": [
  {
   "cell_type": "code",
   "execution_count": 1,
   "id": "f8bfb51c-f4ee-4cbf-8361-272481068002",
   "metadata": {},
   "outputs": [],
   "source": [
    "# Import libraries\n",
    "import pandas as pd\n",
    "import numpy as np\n",
    "import matplotlib.pyplot as plt\n",
    "import seaborn as sns\n",
    "\n",
    "# Load your music dataset (replace 'music_dataset.csv' with your actual file)\n",
    "# If you don't have a dataset yet, you can skip this part for now.\n",
    "# music_df = pd.read_csv('music_dataset.csv')\n",
    "\n",
    "# Display the first few rows of your music dataset to get a quick overview\n",
    "# If you don't have a dataset yet, you can skip this part for now.\n",
    "# music_df.head()\n"
   ]
  },
  {
   "cell_type": "code",
   "execution_count": 2,
   "id": "2764142f-5d23-4f49-be97-635dc740b6d0",
   "metadata": {},
   "outputs": [],
   "source": [
    "import zipfile\n",
    "\n",
    "# Load the FMA dataset (adjust the file path accordingly)\n",
    "fma_data_path = 'fma_metadata.zip'\n",
    "csv_file_path = 'fma_metadata/tracks.csv'\n",
    "\n",
    "# Extract the 'tracks.csv' file from the ZIP archive\n",
    "with zipfile.ZipFile(fma_data_path) as archive:\n",
    "    with archive.open(csv_file_path) as file:\n",
    "        fma_df = pd.read_csv(file, header=[0, 1], skipinitialspace=True, index_col=0, parse_dates=[('track', 'date_created')])\n"
   ]
  },
  {
   "cell_type": "code",
   "execution_count": 26,
   "id": "11b07e71-0fb1-4052-85bb-adfe9745d484",
   "metadata": {},
   "outputs": [
    {
     "name": "stdout",
     "output_type": "stream",
     "text": [
      "            album                                                     \\\n",
      "         comments         date_created        date_released engineer   \n",
      "track_id                                                               \n",
      "2               0  2008-11-26 01:44:45  2009-01-05 00:00:00      NaN   \n",
      "3               0  2008-11-26 01:44:45  2009-01-05 00:00:00      NaN   \n",
      "5               0  2008-11-26 01:44:45  2009-01-05 00:00:00      NaN   \n",
      "10              0  2008-11-26 01:45:08  2008-02-06 00:00:00      NaN   \n",
      "20              0  2008-11-26 01:45:05  2009-01-06 00:00:00      NaN   \n",
      "\n",
      "                                                                          \\\n",
      "         favorites id                                information listens   \n",
      "track_id                                                                   \n",
      "2                4  1                                    <p></p>    6073   \n",
      "3                4  1                                    <p></p>    6073   \n",
      "5                4  1                                    <p></p>    6073   \n",
      "10               4  6                                        NaN   47632   \n",
      "20               2  4  <p> \"spiritual songs\" from Nicky Cook</p>    2710   \n",
      "\n",
      "                        ...    track                \\\n",
      "         producer tags  ... interest language_code   \n",
      "track_id                ...                          \n",
      "2             NaN   []  ...     4656            en   \n",
      "3             NaN   []  ...     1470            en   \n",
      "5             NaN   []  ...     1933            en   \n",
      "10            NaN   []  ...    54881            en   \n",
      "20            NaN   []  ...      978            en   \n",
      "\n",
      "                                                                              \\\n",
      "                                                    license listens lyricist   \n",
      "track_id                                                                       \n",
      "2         Attribution-NonCommercial-ShareAlike 3.0 Inter...    1293      NaN   \n",
      "3         Attribution-NonCommercial-ShareAlike 3.0 Inter...     514      NaN   \n",
      "5         Attribution-NonCommercial-ShareAlike 3.0 Inter...    1151      NaN   \n",
      "10        Attribution-NonCommercial-NoDerivatives (aka M...   50135      NaN   \n",
      "20        Attribution-NonCommercial-NoDerivatives (aka M...     361      NaN   \n",
      "\n",
      "                                                               \n",
      "         number publisher tags            title genre_encoded  \n",
      "track_id                                                       \n",
      "2             3       NaN   []             Food             7  \n",
      "3             4       NaN   []     Electric Ave             7  \n",
      "5             6       NaN   []       This World             7  \n",
      "10            1       NaN   []          Freeway            12  \n",
      "20            3       NaN   []  Spiritual Level            16  \n",
      "\n",
      "[5 rows x 53 columns]\n",
      "\n",
      "Missing Values\n",
      "album   comments                  0\n",
      "        date_created           3529\n",
      "        date_released         36280\n",
      "        engineer              91279\n",
      "        favorites                 0\n",
      "        id                        0\n",
      "        information           23425\n",
      "        listens                   0\n",
      "        producer              88514\n",
      "        tags                      0\n",
      "        title                  1025\n",
      "        tracks                    0\n",
      "        type                   6508\n",
      "artist  active_year_begin     83863\n",
      "        active_year_end      101199\n",
      "        associated_labels     92303\n",
      "        bio                   35418\n",
      "        comments                  0\n",
      "        date_created            856\n",
      "        favorites                 0\n",
      "        id                        0\n",
      "        latitude              62030\n",
      "        location              36364\n",
      "        longitude             62030\n",
      "        members               59725\n",
      "        name                      0\n",
      "        related_projects      93422\n",
      "        tags                      0\n",
      "        website               27318\n",
      "        wikipedia_page       100993\n",
      "set     split                     0\n",
      "        subset                    0\n",
      "track   bit_rate                  0\n",
      "        comments                  0\n",
      "        composer             102904\n",
      "        date_created              0\n",
      "        date_recorded        100415\n",
      "        duration                  0\n",
      "        favorites                 0\n",
      "        genre_top             56976\n",
      "        genres                    0\n",
      "        genres_all                0\n",
      "        information          104225\n",
      "        interest                  0\n",
      "        language_code         91550\n",
      "        license                  87\n",
      "        listens                   0\n",
      "        lyricist             106263\n",
      "        number                    0\n",
      "        publisher            105311\n",
      "        tags                      0\n",
      "        title                     1\n",
      "        genre_encoded             0\n",
      "dtype: int64\n",
      "\n"
     ]
    },
    {
     "data": {
      "text/plain": [
       "(track, genre_top)\n",
       "Rock                   14182\n",
       "Experimental           10608\n",
       "Electronic              9372\n",
       "Hip-Hop                 3552\n",
       "Folk                    2803\n",
       "Pop                     2332\n",
       "Instrumental            2079\n",
       "International           1389\n",
       "Classical               1230\n",
       "Jazz                     571\n",
       "Old-Time / Historic      554\n",
       "Spoken                   423\n",
       "Country                  194\n",
       "Soul-RnB                 175\n",
       "Blues                    110\n",
       "Easy Listening            24\n",
       "Name: count, dtype: int64"
      ]
     },
     "execution_count": 26,
     "metadata": {},
     "output_type": "execute_result"
    }
   ],
   "source": [
    "# Display the first few rows of the dataset\n",
    "print(fma_df.head())\n",
    "print()\n",
    "# Check for missing values\n",
    "print(\"Missing Values\")\n",
    "print(fma_df.isnull().sum())\n",
    "print()\n",
    "# Explore unique values in the target variable (music genre)\n",
    "fma_df[('track', 'genre_top')].value_counts()\n"
   ]
  },
  {
   "cell_type": "code",
   "execution_count": 50,
   "id": "0a944e9b-645a-491e-a083-86a3c7a63c29",
   "metadata": {},
   "outputs": [
    {
     "data": {
      "image/png": "[encoded data removed]",
      "text/plain": [
       "<Figure size 1200x600 with 1 Axes>"
      ]
     },
     "metadata": {},
     "output_type": "display_data"
    }
   ],
   "source": [
    "# Visualize the distribution of music genres\n",
    "plt.figure(figsize=(12, 6))\n",
    "sns.countplot(x=('track', 'genre_top'), data=fma_df)\n",
    "plt.title('Distribution of Music Genres')\n",
    "plt.xticks(rotation=45, ha='right')  # Rotate x-axis labels for better readability\n",
    "plt.show()\n",
    "\n",
    "# Exclude non-numerical columns from the pairplot\n",
    "numerical_columns = fma_df.select_dtypes(include=[np.number]).columns\n",
    "\n"
   ]
  },
  {
   "cell_type": "code",
   "execution_count": 12,
   "id": "29a96b20-87d6-4d4b-b8a6-8eb404dd8f05",
   "metadata": {},
   "outputs": [],
   "source": [
    "# Encode categorical variables (if needed)\n",
    "from sklearn.preprocessing import LabelEncoder\n",
    "label_encoder = LabelEncoder()\n",
    "fma_df[('track', 'genre_encoded')] = label_encoder.fit_transform(fma_df[('track', 'genre_top')])\n",
    "\n"
   ]
  },
  {
   "cell_type": "code",
   "execution_count": 14,
   "id": "effec28e-5312-4efc-99f2-c8438b58bb5e",
   "metadata": {},
   "outputs": [],
   "source": [
    "# Step 8: Split the dataset into features (X) and target variable (y)\n",
    "X = fma_df.drop([('track', 'genre_top'), ('track', 'genre_encoded')], axis=1)  # Adjust column names\n",
    "y = fma_df[('track', 'genre_encoded')]\n"
   ]
  },
  {
   "cell_type": "code",
   "execution_count": 16,
   "id": "7ce263df-f0f4-4a62-a3da-972083a37262",
   "metadata": {},
   "outputs": [],
   "source": [
    "from sklearn.model_selection import train_test_split\n",
    "\n",
    "# Split the dataset into training and testing sets (adjust test_size and random_state as needed)\n",
    "X_train, X_test, y_train, y_test = train_test_split(X, y, test_size=0.2, random_state=42)\n"
   ]
  },
  {
   "cell_type": "code",
   "execution_count": 48,
   "id": "dce450f6-07bb-488d-bf5a-af39ffbd71cc",
   "metadata": {},
   "outputs": [],
   "source": [
    "from sklearn.ensemble import RandomForestClassifier  # You can choose a different model if needed\n",
    "\n",
    "# Choose a machine learning model\n",
    "model = RandomForestClassifier(n_estimators=100, random_state=42)\n"
   ]
  },
  {
   "cell_type": "code",
   "execution_count": 40,
   "id": "22ec869b-206b-4996-8711-6731aaadffd9",
   "metadata": {},
   "outputs": [
    {
     "name": "stdout",
     "output_type": "stream",
     "text": [
      "Missing values in X_train_numeric:\n",
      "album   comments         0\n",
      "        favorites        0\n",
      "        id               0\n",
      "        listens          0\n",
      "        tracks           0\n",
      "artist  comments         0\n",
      "        favorites        0\n",
      "        id               0\n",
      "        latitude     49674\n",
      "        longitude    49674\n",
      "track   bit_rate         0\n",
      "        comments         0\n",
      "        duration         0\n",
      "        favorites        0\n",
      "        interest         0\n",
      "        listens          0\n",
      "        number           0\n",
      "dtype: int64\n",
      "\n",
      "Missing values in X_test_numeric:\n",
      "album   comments         0\n",
      "        favorites        0\n",
      "        id               0\n",
      "        listens          0\n",
      "        tracks           0\n",
      "artist  comments         0\n",
      "        favorites        0\n",
      "        id               0\n",
      "        latitude     12356\n",
      "        longitude    12356\n",
      "track   bit_rate         0\n",
      "        comments         0\n",
      "        duration         0\n",
      "        favorites        0\n",
      "        interest         0\n",
      "        listens          0\n",
      "        number           0\n",
      "dtype: int64\n"
     ]
    }
   ],
   "source": [
    "# Drop non-numeric columns from features\n",
    "X_train_numeric = X_train.select_dtypes(include=[np.number])\n",
    "X_test_numeric = X_test.select_dtypes(include=[np.number])\n",
    "\n",
    "# Choose a machine learning model\n",
    "model = RandomForestClassifier(n_estimators=100, random_state=42)\n",
    "\n",
    "# Check for missing values in X_train_numeric\n",
    "missing_values_train = X_train_numeric.isna().sum()\n",
    "\n",
    "# Check for missing values in X_test_numeric\n",
    "missing_values_test = X_test_numeric.isna().sum()\n",
    "\n",
    "# Print the results\n",
    "print(\"Missing values in X_train_numeric:\")\n",
    "print(missing_values_train)\n",
    "\n",
    "print(\"\\nMissing values in X_test_numeric:\")\n",
    "print(missing_values_test)\n",
    "\n",
    "#Missing Values are Lat & Long so they can be dropped.\n",
    "\n",
    "X_train_numeric.fillna(0, inplace=True)\n",
    "X_test_numeric.fillna(0, inplace=True)\n",
    "\n"
   ]
  },
  {
   "cell_type": "code",
   "execution_count": 42,
   "id": "646e3633-5f27-415b-8a56-0875041289e1",
   "metadata": {},
   "outputs": [
    {
     "data": {
      "text/html": [
       "<style>#sk-container-id-1 {color: black;}#sk-container-id-1 pre{padding: 0;}#sk-container-id-1 div.sk-toggleable {background-color: white;}#sk-container-id-1 label.sk-toggleable__label {cursor: pointer;display: block;width: 100%;margin-bottom: 0;padding: 0.3em;box-sizing: border-box;text-align: center;}#sk-container-id-1 label.sk-toggleable__label-arrow:before {content: \"▸\";float: left;margin-right: 0.25em;color: #696969;}#sk-container-id-1 label.sk-toggleable__label-arrow:hover:before {color: black;}#sk-container-id-1 div.sk-estimator:hover label.sk-toggleable__label-arrow:before {color: black;}#sk-container-id-1 div.sk-toggleable__content {max-height: 0;max-width: 0;overflow: hidden;text-align: left;background-color: #f0f8ff;}#sk-container-id-1 div.sk-toggleable__content pre {margin: 0.2em;color: black;border-radius: 0.25em;background-color: #f0f8ff;}#sk-container-id-1 input.sk-toggleable__control:checked~div.sk-toggleable__content {max-height: 200px;max-width: 100%;overflow: auto;}#sk-container-id-1 input.sk-toggleable__control:checked~label.sk-toggleable__label-arrow:before {content: \"▾\";}#sk-container-id-1 div.sk-estimator input.sk-toggleable__control:checked~label.sk-toggleable__label {background-color: #d4ebff;}#sk-container-id-1 div.sk-label input.sk-toggleable__control:checked~label.sk-toggleable__label {background-color: #d4ebff;}#sk-container-id-1 input.sk-hidden--visually {border: 0;clip: rect(1px 1px 1px 1px);clip: rect(1px, 1px, 1px, 1px);height: 1px;margin: -1px;overflow: hidden;padding: 0;position: absolute;width: 1px;}#sk-container-id-1 div.sk-estimator {font-family: monospace;background-color: #f0f8ff;border: 1px dotted black;border-radius: 0.25em;box-sizing: border-box;margin-bottom: 0.5em;}#sk-container-id-1 div.sk-estimator:hover {background-color: #d4ebff;}#sk-container-id-1 div.sk-parallel-item::after {content: \"\";width: 100%;border-bottom: 1px solid gray;flex-grow: 1;}#sk-container-id-1 div.sk-label:hover label.sk-toggleable__label {background-color: #d4ebff;}#sk-container-id-1 div.sk-serial::before {content: \"\";position: absolute;border-left: 1px solid gray;box-sizing: border-box;top: 0;bottom: 0;left: 50%;z-index: 0;}#sk-container-id-1 div.sk-serial {display: flex;flex-direction: column;align-items: center;background-color: white;padding-right: 0.2em;padding-left: 0.2em;position: relative;}#sk-container-id-1 div.sk-item {position: relative;z-index: 1;}#sk-container-id-1 div.sk-parallel {display: flex;align-items: stretch;justify-content: center;background-color: white;position: relative;}#sk-container-id-1 div.sk-item::before, #sk-container-id-1 div.sk-parallel-item::before {content: \"\";position: absolute;border-left: 1px solid gray;box-sizing: border-box;top: 0;bottom: 0;left: 50%;z-index: -1;}#sk-container-id-1 div.sk-parallel-item {display: flex;flex-direction: column;z-index: 1;position: relative;background-color: white;}#sk-container-id-1 div.sk-parallel-item:first-child::after {align-self: flex-end;width: 50%;}#sk-container-id-1 div.sk-parallel-item:last-child::after {align-self: flex-start;width: 50%;}#sk-container-id-1 div.sk-parallel-item:only-child::after {width: 0;}#sk-container-id-1 div.sk-dashed-wrapped {border: 1px dashed gray;margin: 0 0.4em 0.5em 0.4em;box-sizing: border-box;padding-bottom: 0.4em;background-color: white;}#sk-container-id-1 div.sk-label label {font-family: monospace;font-weight: bold;display: inline-block;line-height: 1.2em;}#sk-container-id-1 div.sk-label-container {text-align: center;}#sk-container-id-1 div.sk-container {/* jupyter's `normalize.less` sets `[hidden] { display: none; }` but bootstrap.min.css set `[hidden] { display: none !important; }` so we also need the `!important` here to be able to override the default hidden behavior on the sphinx rendered scikit-learn.org. See: https://github.com/scikit-learn/scikit-learn/issues/21755 */display: inline-block !important;position: relative;}#sk-container-id-1 div.sk-text-repr-fallback {display: none;}</style><div id=\"sk-container-id-1\" class=\"sk-top-container\"><div class=\"sk-text-repr-fallback\"><pre>RandomForestClassifier(random_state=42)</pre><b>In a Jupyter environment, please rerun this cell to show the HTML representation or trust the notebook. <br />On GitHub, the HTML representation is unable to render, please try loading this page with nbviewer.org.</b></div><div class=\"sk-container\" hidden><div class=\"sk-item\"><div class=\"sk-estimator sk-toggleable\"><input class=\"sk-toggleable__control sk-hidden--visually\" id=\"sk-estimator-id-1\" type=\"checkbox\" checked><label for=\"sk-estimator-id-1\" class=\"sk-toggleable__label sk-toggleable__label-arrow\">RandomForestClassifier</label><div class=\"sk-toggleable__content\"><pre>RandomForestClassifier(random_state=42)</pre></div></div></div></div></div>"
      ],
      "text/plain": [
       "RandomForestClassifier(random_state=42)"
      ]
     },
     "execution_count": 42,
     "metadata": {},
     "output_type": "execute_result"
    }
   ],
   "source": [
    "# Train the model\n",
    "\n",
    "model.fit(X_train_numeric, y_train)"
   ]
  },
  {
   "cell_type": "code",
   "execution_count": 44,
   "id": "1f94926a-91d6-4a65-9326-104933650a1d",
   "metadata": {},
   "outputs": [],
   "source": [
    "# Make predictions on the test set\n",
    "y_pred = model.predict(X_test_numeric)\n"
   ]
  },
  {
   "cell_type": "code",
   "execution_count": 46,
   "id": "9d3218c4-8808-44d4-b30f-8311bd5f4932",
   "metadata": {},
   "outputs": [
    {
     "name": "stdout",
     "output_type": "stream",
     "text": [
      "Model Accuracy: 91.28%\n",
      "Classification Report:\n",
      "               precision    recall  f1-score   support\n",
      "\n",
      "           0       1.00      0.62      0.77        16\n",
      "           1       0.98      0.93      0.95       254\n",
      "           2       0.97      0.70      0.82        44\n",
      "           3       0.67      0.67      0.67         3\n",
      "           4       0.98      0.82      0.89      1900\n",
      "           5       0.94      0.83      0.88      2140\n",
      "           6       0.98      0.80      0.88       563\n",
      "           7       0.99      0.86      0.92       746\n",
      "           8       0.97      0.82      0.89       423\n",
      "           9       0.99      0.81      0.89       267\n",
      "          10       0.99      0.67      0.80       109\n",
      "          11       0.99      0.98      0.99       122\n",
      "          12       0.98      0.76      0.86       444\n",
      "          13       0.93      0.86      0.89      2886\n",
      "          14       1.00      0.76      0.86        45\n",
      "          15       0.95      0.69      0.80        83\n",
      "          16       0.88      0.99      0.93     11270\n",
      "\n",
      "    accuracy                           0.91     21315\n",
      "   macro avg       0.95      0.80      0.86     21315\n",
      "weighted avg       0.92      0.91      0.91     21315\n",
      "\n",
      "Confusion Matrix:\n",
      " [[   10     0     0     0     0     0     0     0     0     0     0     0\n",
      "      0     0     0     0     6]\n",
      " [    0   235     0     0     0     0     0     0     0     2     0     0\n",
      "      0     0     0     0    17]\n",
      " [    0     0    31     0     0     0     0     0     0     0     0     0\n",
      "      0     1     0     0    12]\n",
      " [    0     0     0     2     0     0     0     0     1     0     0     0\n",
      "      0     0     0     0     0]\n",
      " [    0     0     0     0  1549    13     1     0     1     0     0     0\n",
      "      0    25     0     0   311]\n",
      " [    0     0     0     0     0  1774     0     0     0     0     0     0\n",
      "      0    36     0     0   330]\n",
      " [    0     0     0     0     0     2   448     0     0     0     0     0\n",
      "      0    26     0     0    87]\n",
      " [    0     0     0     0     5     1     0   641     0     0     0     0\n",
      "      1     4     0     0    94]\n",
      " [    0     0     0     0     0     7     0     0   347     0     0     1\n",
      "      0     3     0     0    65]\n",
      " [    0     0     0     0     0     1     0     1     0   217     0     0\n",
      "      0     5     0     0    43]\n",
      " [    0     0     0     0     1     2     0     0     0     0    73     0\n",
      "      0     8     0     0    25]\n",
      " [    0     0     0     0     0     0     0     0     0     0     0   120\n",
      "      0     0     0     0     2]\n",
      " [    0     0     0     0     1     7     2     2     0     0     0     0\n",
      "    339    10     0     0    83]\n",
      " [    0     0     0     0     6    16     3     0     3     0     0     0\n",
      "      0  2478     0     2   378]\n",
      " [    0     0     0     0     0     0     0     0     0     0     0     0\n",
      "      0     1    34     0    10]\n",
      " [    0     0     0     0     1     1     0     0     0     0     0     0\n",
      "      0     6     0    57    18]\n",
      " [    0     4     1     1    22    64     5     3     4     1     1     0\n",
      "      5    56     0     1 11102]]\n"
     ]
    }
   ],
   "source": [
    "from sklearn.metrics import accuracy_score, classification_report, confusion_matrix\n",
    "\n",
    "# Evaluate the accuracy of the model\n",
    "accuracy = accuracy_score(y_test, y_pred)\n",
    "print(f'Model Accuracy: {accuracy * 100:.2f}%')\n",
    "\n",
    "# Display additional evaluation metrics\n",
    "print(\"Classification Report:\\n\", classification_report(y_test, y_pred))\n",
    "print(\"Confusion Matrix:\\n\", confusion_matrix(y_test, y_pred))\n"
   ]
  },
  {
   "cell_type": "code",
   "execution_count": null,
   "id": "046f8022-892d-402f-acd3-7a9c9ce4c966",
   "metadata": {},
   "outputs": [],
   "source": []
  }
 ],
 "metadata": {
  "kernelspec": {
   "display_name": "anaconda-panel-2023.05-py310",
   "language": "python",
   "name": "conda-env-anaconda-panel-2023.05-py310-py"
  },
  "language_info": {
   "codemirror_mode": {
    "name": "ipython",
    "version": 3
   },
   "file_extension": ".py",
   "mimetype": "text/x-python",
   "name": "python",
   "nbconvert_exporter": "python",
   "pygments_lexer": "ipython3",
   "version": "3.11.5"
  }
 },
 "nbformat": 4,
 "nbformat_minor": 5
}
